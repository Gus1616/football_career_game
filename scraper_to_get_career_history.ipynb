{
 "cells": [
  {
   "cell_type": "code",
   "execution_count": 31,
   "id": "f13151fe",
   "metadata": {},
   "outputs": [
    {
     "name": "stdout",
     "output_type": "stream",
     "text": [
      "Club career\n",
      "Al Mokawloon\n",
      "Basel\n",
      "Chelsea\n",
      "Roma\n",
      "Liverpool\n"
     ]
    }
   ],
   "source": [
    "import pandas as pd\n",
    "import requests\n",
    "import urllib.request\n",
    "from bs4 import BeautifulSoup\n",
    "import wikipediaapi\n",
    "\n",
    "wiki_lang = wikipediaapi.Wikipedia('en',extract_format=wikipediaapi.ExtractFormat.HTML)\n",
    "wiki_page = wiki_lang.page('Mohammed Salah')\n",
    "page_html_text = wiki_page.text\n",
    "soup = BeautifulSoup(response.content, \"html.parser\")\n",
    "def print_sections(sections, level=0):\n",
    "    for s in sections:\n",
    "        if 'Club career' in s.title:\n",
    "            print(s.title)\n",
    "            #print(\"%s: %s - %s\" % (\"*\" * (level + 1), s.title, s.text[0:100]))\n",
    "            for s in s.sections:\n",
    "                level=level + 1\n",
    "                print(s.title)\n",
    "                if(s.sections is None):\n",
    "                    return\n",
    "                else:\n",
    "                    for s in s.sections:\n",
    "                        level = level+1\n",
    "#                         print(s.title)\n",
    "\n",
    "        #break\n",
    "print_sections(wiki_page.sections)"
   ]
  },
  {
   "cell_type": "code",
   "execution_count": null,
   "id": "9d1deb86",
   "metadata": {},
   "outputs": [],
   "source": []
  }
 ],
 "metadata": {
  "kernelspec": {
   "display_name": "Python 3 (ipykernel)",
   "language": "python",
   "name": "python3"
  },
  "language_info": {
   "codemirror_mode": {
    "name": "ipython",
    "version": 3
   },
   "file_extension": ".py",
   "mimetype": "text/x-python",
   "name": "python",
   "nbconvert_exporter": "python",
   "pygments_lexer": "ipython3",
   "version": "3.9.7"
  }
 },
 "nbformat": 4,
 "nbformat_minor": 5
}
